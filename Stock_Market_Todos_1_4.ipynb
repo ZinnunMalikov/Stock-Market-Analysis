{
  "nbformat": 4,
  "nbformat_minor": 0,
  "metadata": {
    "colab": {
      "name": "Stock Market Todo 1 - 4",
      "provenance": [],
      "authorship_tag": "ABX9TyOLsLwywpqFdhmE0CZNj9Mw",
      "include_colab_link": true
    },
    "kernelspec": {
      "name": "python3",
      "display_name": "Python 3"
    },
    "language_info": {
      "name": "python"
    }
  },
  "cells": [
    {
      "cell_type": "markdown",
      "metadata": {
        "id": "view-in-github",
        "colab_type": "text"
      },
      "source": [
        "<a href=\"https://colab.research.google.com/github/ZinnunMalikov/Stock-Market-Analysis/blob/main/Stock_Market_Todos_1_4.ipynb\" target=\"_parent\"><img src=\"https://colab.research.google.com/assets/colab-badge.svg\" alt=\"Open In Colab\"/></a>"
      ]
    },
    {
      "cell_type": "code",
      "execution_count": null,
      "metadata": {
        "id": "ZLUWX7JlKocY"
      },
      "outputs": [],
      "source": [
        "!pip install yfinance\n"
      ]
    },
    {
      "cell_type": "code",
      "source": [
        "from google.colab import files\n",
        "import numpy as np\n",
        "import copy\n",
        "import yfinance as yf\n",
        "import pandas as pd\n",
        "\n",
        "# Functions\n",
        "def collect_data(Name, Start, End):\n",
        "  global name_array\n",
        "\n",
        "  name_df = yf.download(Name,  start = Start , end = End) \n",
        "  #name_df = name_df.head()\n",
        "  name_newdf = name_df.reset_index() \n",
        "  name_array_1 = name_newdf.to_numpy()\n",
        "  rows, columns = name_array_1.shape\n",
        "  tcs_array = np.array([['Date', 'Open','High','Low','Close','Adj Close','Volume']])\n",
        "\n",
        "  for a in range(rows):\n",
        "    mod = name_array_1[a, 0]\n",
        "    name_array_1[a, 0] = str(mod)\n",
        "\n",
        "  name_array = np.append(tcs_array, name_array_1, axis = 0)\n",
        "  #print(name_array)\n",
        "\n",
        "def get_average(obj_arr):\n",
        "  global avg_array\n",
        "  global obj_arr_mod\n",
        "  avg_array = (obj_arr[1:, 2]+obj_arr[1:, 3])/2\n",
        "  avg_array = np.append([[\"Average\"]], avg_array)\n",
        "  avg_array = avg_array.reshape(avg_array.shape[0], -1)\n",
        "\n",
        "  obj_array_p2 = obj_arr[:, 4:]\n",
        "  obj_arr_mod = np.append(obj_arr[:, :4], avg_array, axis = 1)\n",
        "  obj_arr_mod = np.append(obj_arr_mod, obj_array_p2, axis = 1)\n",
        "\n",
        "#Todo 1+2\n",
        "collect_data('TCS', '2014-01-01', '2022-01-01')\n",
        "tcs_array = name_array\n",
        "\n",
        "collect_data('MSFT', '2012-01-01', '2022-01-01')\n",
        "msft_array = name_array\n",
        "\n",
        "collect_data('AMZN', '2012-01-01', '2022-01-01')\n",
        "amzn_array = name_array\n",
        "\n",
        "collect_data('GOOGL', '2012-01-01', '2022-01-01')\n",
        "googl_array = name_array\n",
        "\n",
        "collect_data('FB', '2012-01-01', '2022-01-01')\n",
        "fb_array = name_array\n",
        "\n",
        "#Todo 3+4\n",
        "\n",
        "get_average(tcs_array)\n",
        "tcs_array = obj_arr_mod\n",
        "\n",
        "get_average(msft_array)\n",
        "msft_array = obj_arr_mod\n",
        "\n",
        "get_average(amzn_array)\n",
        "amzn_array = obj_arr_mod\n",
        "\n",
        "get_average(googl_array)\n",
        "googl_array = obj_arr_mod\n",
        "\n",
        "get_average(fb_array)\n",
        "fb_array = obj_arr_mod\n",
        "\n",
        "#Download\n",
        "df = pd.DataFrame(tcs_array[1:, :], columns = list(tcs_array[0, :]))\n",
        "print(df)\n",
        "\n",
        "df.to_csv('TCS_Data.csv', mode='w')\n",
        "\n",
        "df = pd.DataFrame(msft_array[1:, :], columns = list(msft_array[0, :]))\n",
        "print(df)\n",
        "\n",
        "df.to_csv('MSFT_Data.csv', mode='w')\n",
        "\n",
        "df = pd.DataFrame(amzn_array[1:, :], columns = list(amzn_array[0, :]))\n",
        "print(df)\n",
        "\n",
        "df.to_csv('AMZN_Data.csv', mode='w')\n",
        "\n",
        "df = pd.DataFrame(googl_array[1:, :], columns = list(googl_array[0, :]))\n",
        "print(df)\n",
        "\n",
        "df.to_csv('GOOGL_Data.csv', mode='w')\n",
        "\n",
        "df = pd.DataFrame(fb_array[1:, :], columns = list(fb_array[0, :]))\n",
        "print(df)\n",
        "\n",
        "df.to_csv('FB_Data.csv', mode='w')\n",
        "\n",
        "files.download('TCS_Data.csv')\n",
        "files.download('MSFT_Data.csv')\n",
        "files.download('AMZN_Data.csv')\n",
        "files.download('GOOGL_Data.csv')\n",
        "files.download('FB_Data.csv')\n",
        "\n",
        "\n",
        "\n",
        "\n",
        "\n"
      ],
      "metadata": {
        "id": "kEDXD-VQKyvX"
      },
      "execution_count": null,
      "outputs": []
    }
  ]
}